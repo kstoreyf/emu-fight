{
 "cells": [
  {
   "cell_type": "code",
   "execution_count": null,
   "metadata": {},
   "outputs": [],
   "source": [
    "import numpy as np\n",
    "\n",
    "import matplotlib.pyplot as plt\n",
    "import matplotlib\n",
    "from matplotlib import pylab\n",
    "%config InlineBackend.figure_format = 'retina'\n",
    "matplotlib.rcParams['figure.dpi'] = 80\n",
    "textsize = 'x-large'\n",
    "params = {'legend.fontsize': 'large',\n",
    "          'figure.figsize': (5, 4),\n",
    "         'axes.labelsize': textsize,\n",
    "         'axes.titlesize': textsize,\n",
    "         'xtick.labelsize': textsize,\n",
    "         'ytick.labelsize': textsize}\n",
    "pylab.rcParams.update(params)"
   ]
  },
  {
   "cell_type": "markdown",
   "metadata": {},
   "source": [
    "We can read in our training data from a `.npy` file:"
   ]
  },
  {
   "cell_type": "code",
   "execution_count": null,
   "metadata": {},
   "outputs": [],
   "source": [
    "train_fn = 'data/cosmology_train.npy'\n",
    "data_train = np.load(train_fn, allow_pickle=True)"
   ]
  },
  {
   "cell_type": "markdown",
   "metadata": {},
   "source": [
    "The file is saved as an array of dictionaries that have x (input parameters), y (output statistics), and labels."
   ]
  },
  {
   "cell_type": "code",
   "execution_count": null,
   "metadata": {},
   "outputs": [],
   "source": [
    "n_train = data_train.shape[0]\n",
    "print(\"Number of datapoints:\", n_train)\n",
    "print(\"Dict keys:\", data_train[0].keys())"
   ]
  },
  {
   "cell_type": "markdown",
   "metadata": {},
   "source": [
    "The cosmology dataset contains cosmological parameters (Omega_m, sigma8, Omega_b) as inputs, and the correlation function as output. The correlation function is measured at 10 separation values $r$."
   ]
  },
  {
   "cell_type": "code",
   "execution_count": null,
   "metadata": {},
   "outputs": [],
   "source": [
    "r_vals = np.linspace(50, 140, 10)\n",
    "xs_train = np.array([d['x'] for d in data_train])\n",
    "ys_train = np.array([d['y'] for d in data_train])\n",
    "print(\"Number of input parameters:\", xs_train.shape[1])\n",
    "print(\"Number of output values:\", ys_train.shape[1])"
   ]
  },
  {
   "cell_type": "markdown",
   "metadata": {},
   "source": [
    "We can plot our training set of statistics:"
   ]
  },
  {
   "cell_type": "code",
   "execution_count": null,
   "metadata": {},
   "outputs": [],
   "source": [
    "plt.figure(figsize=(8,6))\n",
    "ys_train_plot = ys_train.copy()\n",
    "np.random.shuffle(ys_train_plot) # shuffle so that color order isn't weird\n",
    "plt.plot(r_vals, ys_train_plot.T, alpha=0.8)\n",
    "plt.xlabel('$r$')\n",
    "plt.ylabel(r'$\\xi(r)$')"
   ]
  },
  {
   "cell_type": "markdown",
   "metadata": {},
   "source": [
    "Let's do the same for our test set:"
   ]
  },
  {
   "cell_type": "code",
   "execution_count": null,
   "metadata": {},
   "outputs": [],
   "source": [
    "test_fn = 'data/cosmology_test.npy'\n",
    "data_test = np.load(test_fn, allow_pickle=True)\n",
    "n_test = data_test.shape[0]\n",
    "print(\"Number of datapoints:\", n_test)\n",
    "print(\"Dict keys:\", data_test[0].keys())\n",
    "xs_test = np.array([d['x'] for d in data_test])\n",
    "ys_test = np.array([d['y'] for d in data_test])\n",
    "print(\"Number of input parameters:\", xs_test.shape[1])\n",
    "print(\"Number of output values:\", ys_test.shape[1])"
   ]
  },
  {
   "cell_type": "code",
   "execution_count": null,
   "metadata": {},
   "outputs": [],
   "source": [
    "plt.figure(figsize=(8,6))\n",
    "plt.plot(r_vals, ys_test.T, alpha=0.8)\n",
    "plt.xlabel('$r$')\n",
    "plt.ylabel(r'$\\xi(r)$')"
   ]
  },
  {
   "cell_type": "markdown",
   "metadata": {},
   "source": [
    "We can also check out the parameter space. We plot the testing and training points used:"
   ]
  },
  {
   "cell_type": "markdown",
   "metadata": {},
   "source": [
    "TODO!"
   ]
  },
  {
   "cell_type": "code",
   "execution_count": null,
   "metadata": {},
   "outputs": [],
   "source": []
  }
 ],
 "metadata": {
  "kernelspec": {
   "display_name": "Python 3",
   "language": "python",
   "name": "python3"
  },
  "language_info": {
   "codemirror_mode": {
    "name": "ipython",
    "version": 3
   },
   "file_extension": ".py",
   "mimetype": "text/x-python",
   "name": "python",
   "nbconvert_exporter": "python",
   "pygments_lexer": "ipython3",
   "version": "3.7.3"
  }
 },
 "nbformat": 4,
 "nbformat_minor": 4
}
