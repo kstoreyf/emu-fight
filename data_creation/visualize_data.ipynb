{
 "cells": [
  {
   "cell_type": "markdown",
   "metadata": {},
   "source": [
    "# Visualize cosmologic data\n",
    "\n",
    "#### Index<a name=\"index\"></a>\n",
    "1. [Import packages](#imports)\n",
    "* [Train data](#train)\n",
    "    1. [Load data](#loadTrainData)\n",
    "    * [Plot data](#plotTrainData)\n",
    "* [Train data](#test)\n",
    "    1. [Load data](#loadTestData)\n",
    "    * [Plot data](#plotTestData)\n",
    "\n",
    "## 1. Import packages<a name=\"imports\"></a>"
   ]
  },
  {
   "cell_type": "code",
   "execution_count": null,
   "metadata": {},
   "outputs": [],
   "source": [
    "import numpy as np\n",
    "import pickle\n",
    "\n",
    "import matplotlib.pyplot as plt\n",
    "import matplotlib\n",
    "from matplotlib import pylab\n",
    "%config InlineBackend.figure_format = 'retina'\n",
    "matplotlib.rcParams['figure.dpi'] = 80\n",
    "textsize = 'x-large'\n",
    "params = {'legend.fontsize': 'large',\n",
    "          'figure.figsize': (5, 4),\n",
    "         'axes.labelsize': textsize,\n",
    "         'axes.titlesize': textsize,\n",
    "         'xtick.labelsize': textsize,\n",
    "         'ytick.labelsize': textsize}\n",
    "pylab.rcParams.update(params)"
   ]
  },
  {
   "cell_type": "markdown",
   "metadata": {},
   "source": [
    "## 2. Train data<a name=\"train\"></a>\n",
    "\n",
    "### 2.1. Load data<a name=\"loadTrainData\"></a>"
   ]
  },
  {
   "cell_type": "markdown",
   "metadata": {},
   "source": [
    "We can read in our training data from a `.pickle` file:"
   ]
  },
  {
   "cell_type": "code",
   "execution_count": null,
   "metadata": {},
   "outputs": [],
   "source": [
    "path_train = '../data/cosmology_train.pickle'\n",
    "with open(path_train, 'rb') as input_file:\n",
    "    data_train = pickle.load(input_file)"
   ]
  },
  {
   "cell_type": "markdown",
   "metadata": {},
   "source": [
    "The file is saved as an array of dictionaries that have input parameters, output statistics, and extra parameters used to generate the output statistics."
   ]
  },
  {
   "cell_type": "code",
   "execution_count": null,
   "metadata": {},
   "outputs": [],
   "source": [
    "input_train = data_train['input_data']\n",
    "number_train = input_train.shape[0]\n",
    "print(\"Number of datapoints:\", number_train)"
   ]
  },
  {
   "cell_type": "markdown",
   "metadata": {},
   "source": [
    "The cosmology dataset contains cosmological parameters ($\\Omega_m$, $\\sigma_8$, $\\Omega_b$) as inputs, and the correlation function as output. The correlation function is measured at 10 separation values $r$."
   ]
  },
  {
   "cell_type": "code",
   "execution_count": null,
   "metadata": {},
   "outputs": [],
   "source": [
    "output_train = data_train['output_data']\n",
    "print(\"Number of input parameters:\", input_train.shape[1]-1)  # remove the `object_id` column\n",
    "print(\"Number of output values:\", output_train.shape[1]-1)  # remove the `object_id` column"
   ]
  },
  {
   "cell_type": "markdown",
   "metadata": {},
   "source": [
    "## 2.2. Plot data<a name=\"plotTrainData\"></a>\n",
    "\n",
    "We can plot our training set of statistics:"
   ]
  },
  {
   "cell_type": "code",
   "execution_count": null,
   "metadata": {},
   "outputs": [],
   "source": [
    "extra_train = data_train['extra_input']\n",
    "r_vals = extra_train['r_vals']\n",
    "ys_train_plot = output_train.copy()\n",
    "ys_train_plot = ys_train_plot.drop(columns=['object_id'])\n",
    "ys_train_plot = ys_train_plot.sample(frac=1)\n",
    "\n",
    "plt.figure(figsize=(8,6))\n",
    "for i in np.arange(len(ys_train_plot)):\n",
    "    plt.plot(r_vals, ys_train_plot.iloc[i], alpha=0.8)\n",
    "plt.xlabel('$r$')\n",
    "plt.ylabel(r'$\\xi(r)$')"
   ]
  },
  {
   "cell_type": "markdown",
   "metadata": {},
   "source": [
    "## 3. Test data<a name=\"test\"></a>\n",
    "\n",
    "Let's do the same for our test set:\n",
    "\n",
    "### 3.1. Load data<a name=\"loadTestData\"></a>"
   ]
  },
  {
   "cell_type": "code",
   "execution_count": null,
   "metadata": {},
   "outputs": [],
   "source": [
    "path_test = '../data/cosmology_test.pickle'\n",
    "with open(path_test, 'rb') as input:\n",
    "    data_test = pickle.load(input)"
   ]
  },
  {
   "cell_type": "code",
   "execution_count": null,
   "metadata": {},
   "outputs": [],
   "source": [
    "input_test = data_test['input_data']\n",
    "number_test = input_test.shape[0]\n",
    "print(\"Number of datapoints:\", number_test)"
   ]
  },
  {
   "cell_type": "code",
   "execution_count": null,
   "metadata": {},
   "outputs": [],
   "source": [
    "output_test = data_test['output_data']\n",
    "print(\"Number of input parameters:\", input_test.shape[1]-1)  # remove the `object_id` column\n",
    "print(\"Number of output values:\", output_test.shape[1]-1)  # remove the `object_id` column"
   ]
  },
  {
   "cell_type": "code",
   "execution_count": null,
   "metadata": {},
   "outputs": [],
   "source": [
    "extra_test = data_test['extra_input']\n",
    "r_vals = extra_test['r_vals'] #these should be the same as in the training set!\n",
    "ys_test_plot = output_test.copy()\n",
    "ys_test_plot = ys_test_plot.drop(columns=['object_id'])\n",
    "ys_test_plot = ys_test_plot.sample(frac=1)\n",
    "\n",
    "plt.figure(figsize=(8,6))\n",
    "for i in np.arange(len(ys_test_plot)):\n",
    "    plt.plot(r_vals, ys_test_plot.iloc[i], alpha=0.8)\n",
    "plt.xlabel('$r$')\n",
    "plt.ylabel(r'$\\xi(r)$')"
   ]
  },
  {
   "cell_type": "markdown",
   "metadata": {},
   "source": [
    "We can also check out the parameter space. We plot the testing and training points used:"
   ]
  },
  {
   "cell_type": "markdown",
   "metadata": {},
   "source": [
    "TODO!"
   ]
  }
 ],
 "metadata": {
  "kernelspec": {
   "display_name": "Python 3",
   "language": "python",
   "name": "python3"
  },
  "language_info": {
   "codemirror_mode": {
    "name": "ipython",
    "version": 3
   },
   "file_extension": ".py",
   "mimetype": "text/x-python",
   "name": "python",
   "nbconvert_exporter": "python",
   "pygments_lexer": "ipython3",
   "version": "3.7.4"
  }
 },
 "nbformat": 4,
 "nbformat_minor": 4
}
