{
 "cells": [
  {
   "cell_type": "markdown",
   "metadata": {},
   "source": [
    "# Emulator: Celerite\n",
    "\n",
    "This notebook provides a template to build an emulator with [Celerite](https://celerite.readthedocs.io/en/stable/). \n",
    "\n",
    "\n",
    "#### Index<a name=\"index\"></a>\n",
    "1. [Import packages](#imports)\n",
    "2. [Load data](#loadData)\n",
    "    1. [Load train data](#loadTrainData)\n",
    "    2. [Load test data](#loadTestData)\n",
    "3. [Emulator method](#emulator)\n",
    "    1. [Scale data](#scaleData)\n",
    "    2. [Train emulator](#trainEmu)\n",
    "    3. [Plot results](#plotEmu)\n",
    "\n",
    "## 1. Import packages<a name=\"imports\"></a>\n"
   ]
  },
  {
   "cell_type": "code",
   "execution_count": 10,
   "metadata": {},
   "outputs": [],
   "source": [
    "import numpy as np\n",
    "import pandas as pd\n",
    "import pickle\n",
    "\n",
    "import matplotlib.pyplot as plt\n",
    "import matplotlib\n",
    "from matplotlib import pylab\n",
    "\n",
    "import scipy.optimize as op\n",
    "\n",
    "import celerite\n",
    "from celerite import terms\n",
    "import george\n",
    "\n",
    "from sklearn.preprocessing import StandardScaler"
   ]
  },
  {
   "cell_type": "markdown",
   "metadata": {},
   "source": [
    "## 2. Load data<a name=\"loadData\"></a>\n",
    "\n",
    "Read the training data from a `.pickle` file:\n",
    "\n",
    "### 2.1. Load training data<a name=\"loadTrainData\"></a>"
   ]
  },
  {
   "cell_type": "code",
   "execution_count": 2,
   "metadata": {},
   "outputs": [],
   "source": [
    "path_train = '../data/cosmology_train_1d.pickle'\n",
    "\n",
    "with open(path_train, 'rb') as input_file:\n",
    "    data_train = pickle.load(input_file)"
   ]
  },
  {
   "cell_type": "code",
   "execution_count": 3,
   "metadata": {},
   "outputs": [
    {
     "name": "stdout",
     "output_type": "stream",
     "text": [
      "Number of datapoints: 1000\n",
      "Number of input parameters: 1\n"
     ]
    }
   ],
   "source": [
    "input_train = data_train['input_data']\n",
    "output_train = data_train['output_data']\n",
    "number_train = input_train.shape[0]\n",
    "number_param = input_train.shape[1] - 1\n",
    "print(\"Number of datapoints:\", number_train)\n",
    "print(\"Number of input parameters:\", number_param) # remove the `object_id` column"
   ]
  },
  {
   "cell_type": "code",
   "execution_count": 4,
   "metadata": {},
   "outputs": [],
   "source": [
    "extra_train = data_train['extra_input']\n",
    "r_vals = extra_train['r_vals']"
   ]
  },
  {
   "cell_type": "code",
   "execution_count": 5,
   "metadata": {},
   "outputs": [],
   "source": [
    "xs_train = input_train.drop(columns=['object_id'])\n",
    "ys_train = output_train.drop(columns=['object_id'])"
   ]
  },
  {
   "cell_type": "markdown",
   "metadata": {},
   "source": [
    "### 2.2. Load test data<a name=\"loadTrainData\"></a> "
   ]
  },
  {
   "cell_type": "code",
   "execution_count": 163,
   "metadata": {},
   "outputs": [],
   "source": [
    "path_test = '../data/cosmology_test_1d.pickle'\n",
    "\n",
    "with open(path_test, 'rb') as input:\n",
    "    data_test = pickle.load(input)"
   ]
  },
  {
   "cell_type": "code",
   "execution_count": 164,
   "metadata": {},
   "outputs": [
    {
     "name": "stdout",
     "output_type": "stream",
     "text": [
      "Number of datapoints: 100\n"
     ]
    }
   ],
   "source": [
    "input_test = data_test['input_data']\n",
    "output_test = data_test['output_data']\n",
    "number_test = input_test.shape[0]\n",
    "print(\"Number of datapoints:\", number_test)"
   ]
  },
  {
   "cell_type": "code",
   "execution_count": 165,
   "metadata": {},
   "outputs": [],
   "source": [
    "xs_test = input_test.drop(columns=['object_id'])\n",
    "ys_test = output_test.drop(columns=['object_id'])"
   ]
  },
  {
   "cell_type": "markdown",
   "metadata": {},
   "source": [
    "## 3. Emulator method<a name=\"emulator\"></a>"
   ]
  },
  {
   "cell_type": "markdown",
   "metadata": {},
   "source": [
    "Let's first scale our input parameters, to make training easier:"
   ]
  },
  {
   "cell_type": "code",
   "execution_count": 166,
   "metadata": {},
   "outputs": [
    {
     "data": {
      "text/plain": [
       "StandardScaler(copy=True, with_mean=True, with_std=True)"
      ]
     },
     "execution_count": 166,
     "metadata": {},
     "output_type": "execute_result"
    }
   ],
   "source": [
    "scaler = StandardScaler()\n",
    "scaler.fit(xs_train)"
   ]
  },
  {
   "cell_type": "code",
   "execution_count": 167,
   "metadata": {},
   "outputs": [],
   "source": [
    "xs_train.iloc[:] = scaler.transform(xs_train)\n",
    "xs_test.iloc[:] = scaler.transform(xs_test)"
   ]
  },
  {
   "cell_type": "markdown",
   "metadata": {},
   "source": [
    "We will use `scikit-learn`'s `MLPRegressor` to build our emulator. We train a separate regressor for each output value. We have to tune the hyperparameters carefully."
   ]
  },
  {
   "cell_type": "code",
   "execution_count": 187,
   "metadata": {},
   "outputs": [],
   "source": [
    "def fit_gp_celerite(kernel, x, y, x_new):\n",
    "    \n",
    "    x = x.iloc[:,0]\n",
    "    x_new = x_new.iloc[:,0]\n",
    "    \n",
    "    def neg_log_like(params,y,gp): \n",
    "        gp.set_parameter_vector(params)\n",
    "        loglike = gp.log_likelihood(y)\n",
    "        return -loglike if np.isfinite(loglike) else 1e25\n",
    "\n",
    "    def grad_neg_log_like(params, y, gp):\n",
    "        gp.set_parameter_vector(params)\n",
    "        return -gp.grad_log_likelihood(y)[1]\n",
    "    \n",
    "    \n",
    "    gp = celerite.GP(kernel, mean=0, fit_mean=False)\n",
    "    gp.compute(x)\n",
    "    \n",
    "    print(\"Initial log-likelihood: {0}\".format(gp.log_likelihood(y)))\n",
    "    \n",
    "    # Fit for the maximum likelihood parameters\n",
    "    bounds = gp.get_parameter_bounds()\n",
    "    results = op.minimize(neg_log_like, gp.get_parameter_vector(), \n",
    "                       jac=grad_neg_log_like, args=(y, gp))\n",
    "    gp.set_parameter_vector(results.x)\n",
    "    print(\"Final log-likelihood: {0}\".format(-results.fun))\n",
    "\n",
    "    # Make the maximum likelihood prediction\n",
    "    gp_mean, gp_cov = gp.predict(y, x_new, return_var=True)\n",
    "    std = np.sqrt(gp_cov)\n",
    "    \n",
    "    return gp_mean, gp_cov"
   ]
  },
  {
   "cell_type": "code",
   "execution_count": 206,
   "metadata": {},
   "outputs": [],
   "source": [
    "y_mean = np.mean(ys_train, axis=0)\n",
    "ys_train = ys_train/y_mean\n",
    "ys_test = ys_test/y_mean"
   ]
  },
  {
   "cell_type": "code",
   "execution_count": 207,
   "metadata": {},
   "outputs": [
    {
     "name": "stdout",
     "output_type": "stream",
     "text": [
      "10\n",
      "0\n",
      "Initial log-likelihood: -1843.9580332619287\n",
      "Final log-likelihood: 1062.506145563781\n",
      "1\n",
      "Initial log-likelihood: -1874.2623493354124\n",
      "Final log-likelihood: 5520.590021082566\n",
      "2\n",
      "Initial log-likelihood: -1915.0303458736335\n",
      "Final log-likelihood: 1443.0191528736927\n",
      "3\n",
      "Initial log-likelihood: -1946.212526885082\n",
      "Final log-likelihood: 5218.697196927171\n",
      "4\n",
      "Initial log-likelihood: -1845.0389655564418\n",
      "Final log-likelihood: 1056.9647116092467\n",
      "5\n",
      "Initial log-likelihood: -1828.537573686921\n",
      "Final log-likelihood: 1256.1790681369985\n",
      "6\n",
      "Initial log-likelihood: -2170.0325219203196\n",
      "Final log-likelihood: 958.1179738129968\n",
      "7\n",
      "Initial log-likelihood: -239074.89329491614\n",
      "Final log-likelihood: 1486.2974176042285\n",
      "8\n",
      "Initial log-likelihood: -1822.3456795444806\n",
      "Final log-likelihood: 1459.6192041133145\n",
      "9\n",
      "Initial log-likelihood: -1780.8994506678416\n",
      "Final log-likelihood: 6997.199939556736\n"
     ]
    }
   ],
   "source": [
    "\n",
    "number_outputs = np.shape(ys_test)[1]\n",
    "print(number_outputs)\n",
    "ys_test_preds = ys_test.copy()\n",
    "ys_train_0 = ys_train.iloc[:, 0]\n",
    "for i in np.arange(number_outputs):\n",
    "    print(i)\n",
    "    ys_train_i = ys_train.iloc[:, i]\n",
    "    \n",
    "    term1 = terms.RealTerm(-1, 8.5)\n",
    "    \n",
    "    term2 = terms.JitterTerm(log_sigma=10)\n",
    "    \n",
    "    term3 = terms.RealTerm(log_a=np.log(np.var(ys_train_i)+5), log_c=-np.log(5.0))\n",
    "\n",
    "\n",
    "    # Try different kernels \n",
    "    kernel = term1\n",
    "\n",
    "    ys_pred, ys_cov = fit_gp_celerite(kernel=kernel, x=xs_train, \n",
    "                     y=ys_train_i, x_new=xs_test)\n",
    "    ys_test_preds.iloc[:, i] = ys_pred"
   ]
  },
  {
   "cell_type": "markdown",
   "metadata": {},
   "source": [
    "Undo all the normalizations."
   ]
  },
  {
   "cell_type": "code",
   "execution_count": 208,
   "metadata": {},
   "outputs": [],
   "source": [
    "ys_test = ys_test*y_mean\n",
    "ys_test_preds = ys_test_preds*y_mean"
   ]
  },
  {
   "cell_type": "markdown",
   "metadata": {},
   "source": [
    "### 3.3. Plot results<a name=\"plotEmu\"></a>\n",
    "\n",
    "We compare our predictions to the truth (choosing a subset for visual clarity). "
   ]
  },
  {
   "cell_type": "code",
   "execution_count": 209,
   "metadata": {},
   "outputs": [],
   "source": [
    "n_plot = int(0.2*number_test)\n",
    "idxs = np.random.choice(np.arange(number_test), n_plot)\n",
    "color_idx = np.linspace(0, 1, n_plot)\n",
    "colors = np.array([plt.cm.rainbow(c) for c in color_idx])"
   ]
  },
  {
   "cell_type": "code",
   "execution_count": 210,
   "metadata": {},
   "outputs": [
    {
     "data": {
      "text/plain": [
       "<matplotlib.legend.Legend at 0x129f0eba8>"
      ]
     },
     "execution_count": 210,
     "metadata": {},
     "output_type": "execute_result"
    },
    {
     "data": {
      "image/png": "[encoded data removed]",
      "text/plain": [
       "<Figure size 576x432 with 1 Axes>"
      ]
     },
     "metadata": {
      "needs_background": "light"
     },
     "output_type": "display_data"
    }
   ],
   "source": [
    "plt.figure(figsize=(8,6))\n",
    "for i in range(n_plot):\n",
    "    ys_test_i = ys_test.iloc[idxs[i], :]\n",
    "    ys_pred_i = ys_test_preds.iloc[idxs[i], :]\n",
    "    if i==0:\n",
    "        label_test = 'truth'\n",
    "        label_pred = 'emu_prediction'\n",
    "    else:\n",
    "        label_test = None\n",
    "        label_pred = None\n",
    "    plt.plot(r_vals, ys_test_i, alpha=0.8, label=label_test, \n",
    "             marker='o', markerfacecolor='None', ls='None', color=colors[i])\n",
    "    plt.plot(r_vals, ys_pred_i, alpha=0.8, label=label_pred, color=colors[i])\n",
    "plt.xlabel('$r$')\n",
    "# plt.ylim(-.001,0.015)\n",
    "plt.ylabel(r'$\\xi(r)$')\n",
    "plt.legend()\n"
   ]
  },
  {
   "cell_type": "code",
   "execution_count": 211,
   "metadata": {},
   "outputs": [
    {
     "data": {
      "text/plain": [
       "Text(0, 0.5, 'fractional error')"
      ]
     },
     "execution_count": 211,
     "metadata": {},
     "output_type": "execute_result"
    },
    {
     "data": {
      "image/png": "[encoded data removed]",
      "text/plain": [
       "<Figure size 576x432 with 1 Axes>"
      ]
     },
     "metadata": {
      "needs_background": "light"
     },
     "output_type": "display_data"
    }
   ],
   "source": [
    "plt.figure(figsize=(8,6))\n",
    "for i in range(n_plot):\n",
    "    ys_test_i = ys_test.iloc[idxs[i], :]\n",
    "    ys_pred_i = ys_test_preds.iloc[idxs[i], :]\n",
    "    frac_err = (ys_pred_i-ys_test_i)/ys_test_i\n",
    "    plt.plot(r_vals, frac_err, alpha=0.8, color=colors[i])\n",
    "plt.axhline(0.0, color='k')\n",
    "plt.xlabel('$r$')\n",
    "plt.ylabel(r'fractional error')"
   ]
  },
  {
   "cell_type": "code",
   "execution_count": null,
   "metadata": {},
   "outputs": [],
   "source": []
  }
 ],
 "metadata": {
  "kernelspec": {
   "display_name": "Python 3",
   "language": "python",
   "name": "python3"
  },
  "language_info": {
   "codemirror_mode": {
    "name": "ipython",
    "version": 3
   },
   "file_extension": ".py",
   "mimetype": "text/x-python",
   "name": "python",
   "nbconvert_exporter": "python",
   "pygments_lexer": "ipython3",
   "version": "3.6.10"
  }
 },
 "nbformat": 4,
 "nbformat_minor": 4
}
