{
 "cells": [
  {
   "cell_type": "markdown",
   "metadata": {},
   "source": [
    "# Template for stand-alone emulator method\n",
    "\n",
    "This notebook provides a template to build an emulator with a particular method, using stand-alone libraries. If you want to use the emulators on the emulator class, refer to [].\n",
    "\n",
    "#### Index<a name=\"index\"></a>\n",
    "1. [Import packages](#imports)\n",
    "* [Load data](#loadData)\n",
    "* [Load features](#pca)\n",
    "* [Set up classifier](#classification)\n",
    "* [Hyperparameter optimisation](#optimisation)\n",
    " 1. [`num_leaves`](#optNumLeaves)\n",
    " * [`learning_rate`](#optLearn)\n",
    " * [`n_estimators`](#optNumEst)\n",
    " * [`min_child_samples`](#optMinChild)\n",
    " * [`max_depth`](#optMaxDepth)\n",
    " * [`min_split_gain`](#optMinSplit)\n",
    " * [Grid](#optGrid)\n",
    "* [Optimised classifier](#optimised)\n",
    "* [Evaluate classifier](#evaluation)\n",
    " 1. [Compute feature importances](#featImp)\n",
    "    1. [Compare with and without redshift information](#featCompZ)\n",
    "    * [Distinguish between feature origin](#featOrigin)\n",
    " * [Correlation matrix](#corr)\n",
    " * [Effect of redshift in classification](#zEffect)\n",
    "* [Compare results](#comparison)\n",
    "\n",
    "## 1. Import packages<a name=\"imports\"></a>"
   ]
  },
  {
   "cell_type": "code",
   "execution_count": null,
   "metadata": {},
   "outputs": [],
   "source": [
    "import matplotlib.pyplot as plt\n",
    "import numpy as np"
   ]
  },
  {
   "cell_type": "markdown",
   "metadata": {},
   "source": [
    "## 2. Load data<a name=\"loadData\"></a>\n",
    "\n",
    "Read the training data from a `.npy` file:\n",
    "\n",
    "### 2.1. Load train data<a name=\"loadTrainData\"></a>"
   ]
  },
  {
   "cell_type": "code",
   "execution_count": null,
   "metadata": {},
   "outputs": [],
   "source": [
    "train_file = '../data/cosmology_train.npy'\n",
    "train_data = np.load(train_file, allow_pickle=True)"
   ]
  },
  {
   "cell_type": "markdown",
   "metadata": {},
   "source": [
    "The cosmology dataset contains cosmological parameters (Omega_m, sigma8, Omega_b) as inputs, and the correlation function as output. The correlation function is measured at 10 separation values $r$."
   ]
  },
  {
   "cell_type": "markdown",
   "metadata": {},
   "source": [
    "### 2.2. Load test data<a name=\"loadTestData\"></a>"
   ]
  },
  {
   "cell_type": "code",
   "execution_count": null,
   "metadata": {},
   "outputs": [],
   "source": [
    "test_file = '../data/cosmology_test.npy'\n",
    "test_data = np.load(test_file, allow_pickle=True)"
   ]
  },
  {
   "cell_type": "code",
   "execution_count": null,
   "metadata": {},
   "outputs": [],
   "source": []
  },
  {
   "cell_type": "code",
   "execution_count": null,
   "metadata": {},
   "outputs": [],
   "source": [
    "ntrain = train.shape[0]\n",
    "print(\"Number of datapoints:\", ntrain)\n",
    "print(\"Dict keys:\", train[0].keys())"
   ]
  },
  {
   "cell_type": "code",
   "execution_count": null,
   "metadata": {},
   "outputs": [],
   "source": [
    "rvals = np.linspace(50, 140, 10)\n",
    "xs = np.array([d['x'] for d in train])\n",
    "ys = np.array([d['y'] for d in train])\n",
    "print(\"Number of input parameters:\", xs.shape[1])\n",
    "print(\"Number of output values:\", ys.shape[1])"
   ]
  },
  {
   "cell_type": "code",
   "execution_count": null,
   "metadata": {},
   "outputs": [],
   "source": [
    "plt.figure(figsize=(8,6))\n",
    "yplot = ys.copy()\n",
    "np.random.shuffle(yplot) # shuffle so that color order isn't weird\n",
    "plt.plot(rvals, yplot.T, alpha=0.8)\n",
    "plt.xlabel('$r$')\n",
    "plt.ylabel(r'$\\xi(r)$')"
   ]
  },
  {
   "cell_type": "code",
   "execution_count": null,
   "metadata": {},
   "outputs": [],
   "source": [
    "rvals"
   ]
  },
  {
   "cell_type": "code",
   "execution_count": null,
   "metadata": {},
   "outputs": [],
   "source": [
    "yplot"
   ]
  },
  {
   "cell_type": "code",
   "execution_count": null,
   "metadata": {},
   "outputs": [],
   "source": []
  }
 ],
 "metadata": {
  "kernelspec": {
   "display_name": "Python 3",
   "language": "python",
   "name": "python3"
  },
  "language_info": {
   "codemirror_mode": {
    "name": "ipython",
    "version": 3
   },
   "file_extension": ".py",
   "mimetype": "text/x-python",
   "name": "python",
   "nbconvert_exporter": "python",
   "pygments_lexer": "ipython3",
   "version": "3.7.7"
  }
 },
 "nbformat": 4,
 "nbformat_minor": 4
}
